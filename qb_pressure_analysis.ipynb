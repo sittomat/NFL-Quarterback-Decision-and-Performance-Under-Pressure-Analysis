{
 "cells": [
  {
   "cell_type": "markdown",
   "id": "f6fc107d-fd7f-4729-a9bf-2cdf011e134e",
   "metadata": {},
   "source": [
    "# Analyzing NFL Quarterback Decisions and Play Performance Under Pressure\n",
    "### SIADS 593 - Winter 2025\n",
    "### Prathik Addepalli, Matthew Sitto & Utku Yurday"
   ]
  },
  {
   "cell_type": "markdown",
   "id": "3cf5619f-7e71-4ab6-959e-6fc3c1bcd84e",
   "metadata": {},
   "source": [
    "In this Notebook, we use the data from the NFL's 2022 Season to analyze QB decision-making when facing pressure. Specifically, we investigate what type of play (pass vs. scramble) QBs are more likely to favor, what the typical outcomes are and whether choosing one vs. the other has any influence on the success of the play. We predominantly use the Pandas library for data wrangling and analysis, along with the Altair library for our visualizations. The data is sourced from [Kaggle (NFL Big Data Bowl 2025)](https://www.kaggle.com/competitions/nfl-big-data-bowl-2025/data)."
   ]
  },
  {
   "cell_type": "markdown",
   "id": "175870dc-28ca-4da5-8a64-ef2edfb8f014",
   "metadata": {},
   "source": [
    "**Please note that all markdown commentary refers to specific outputs of the code being run on the full [Player Play](https://www.kaggle.com/competitions/nfl-big-data-bowl-2025/data?select=player_play.csv) file, which is 52MB in size. The data folder submitted with this Notebook contains a truncated version (_/src/data/player_play.csv_) which is 9MB. As such, while the entire Notebook has been tested to run using the truncated file as well, some of the markdown commentary may not match what is observed in the output cells. A pdf copy of this Notebook run on the full dataset has been provided along with the Project Report.**"
   ]
  },
  {
   "cell_type": "markdown",
   "id": "1aa35a2a-6f82-4401-98f2-72bf917607cd",
   "metadata": {},
   "source": [
    "## Table of Contents\n",
    "[Pre-Processing Steps](#Pre-Processing-Steps) <br>\n",
    "[Data Cleaning & EDA](#Data-Cleaning-&-EDA) <br>\n",
    "[Aggregate Level Analysis](#Aggregate-Level-Analysis) <br>\n",
    "[Individual Player Analysis](#Individual-Player-Analysis) <br>"
   ]
  },
  {
   "cell_type": "markdown",
   "id": "72dd86bf-dea6-420f-942a-b0783c17777d",
   "metadata": {},
   "source": [
    "## Pre-Processing Steps"
   ]
  },
  {
   "cell_type": "markdown",
   "id": "845dbaac-2e95-423a-b43b-6496c1e43189",
   "metadata": {},
   "source": [
    "Let's begin by importing the required libraries and allowing Altair to work with our larger datasets (with the \"no pressure\" dataset exceeding 12k rows). To load the data, we will use the `process_qb_pressure_data` function from our imported script. We will call the function twice, once for \"pressure\" plays and once for \"no pressure\" plays and load them into 2 separate dataframes."
   ]
  },
  {
   "cell_type": "code",
   "execution_count": null,
   "id": "0b2b5efd-3601-4ff1-8d5b-45ced1485f0c",
   "metadata": {},
   "outputs": [],
   "source": [
    "# Import required libraries\n",
    "from process_qb_pressure import process_qb_pressure_data\n",
    "import numpy as np\n",
    "import pandas as pd\n",
    "import altair as alt\n",
    "from sklearn.linear_model import LinearRegression"
   ]
  },
  {
   "cell_type": "code",
   "execution_count": null,
   "id": "acdf68e2-225b-449b-8a2e-4e9f8d697fc2",
   "metadata": {},
   "outputs": [],
   "source": [
    "# Allow Altair to process more than the max 5,000 rows by default\n",
    "alt.data_transformers.disable_max_rows();"
   ]
  },
  {
   "cell_type": "code",
   "execution_count": null,
   "id": "0fb349cc-4ce4-4056-b8cd-af7a547ea114",
   "metadata": {},
   "outputs": [],
   "source": [
    "# Load data for both pressure and no pressure plays\n",
    "games_file = \"data/games.csv\"\n",
    "player_play_file = \"data/player_play.csv\"\n",
    "players_file = \"data/players.csv\"\n",
    "plays_file = \"data/plays.csv\""
   ]
  },
  {
   "cell_type": "markdown",
   "id": "98bdf380-2ecd-4de3-9ccc-23a78417dba9",
   "metadata": {},
   "source": [
    "The cleaned data contains the following columns:\n",
    "- gameId: Game identifier, unique (numeric)\n",
    "- playId: Play identifier, not unique across games (numeric)\n",
    "- game_play_id: Unique identifier for each play (numeric)\n",
    "- scoreDelta: Score surplus/deficit for the team associated with the play (numeric)\n",
    "- displayName: Player name (text)\n",
    "- down: Down (numeric)\n",
    "- yardsToGo: Distance needed for a first down (numeric)\n",
    "- absoluteYardlineNumber: Distance from end zone for possession team (numeric)\n",
    "- passResult:  Dropback outcome of the play (C: Complete pass, I: Incomplete pass, S: Quarterback sack, IN: Intercepted pass, R: Scramble, text)\n",
    "- prePenaltyYardsGained: Net yards gained by the offense, before penalty yardage (numeric)\n",
    "- passLength: The distance beyond the LOS that the ball traveled not including yards into the endzone. If thrown behind LOS, the value is negative. (numeric)\n",
    "- timeToThrow: The time (secs) elapsed between snap and pass (numeric)\n",
    "- timeInTackleBox: The amount of time the QB spent inside the tackle box (numeric)\n",
    "- hadRushAttempt: Whether or not the player had a rushing attempt on this play (numeric)\n",
    "- rushingYards: The rush yards accrued by the player on this play (numeric)\n",
    "- qbSneak: Whether or not the play was a QB Sneak (numeric)\n",
    "- qbKneel: Whether or not the play was a QB Kneel (numeric)\n",
    "- qbSpike: Boolean indicating whether the play was a QB Spike (Boolean)\n",
    "- passingYards: The pass yards accrued by the player on this play (numeric)"
   ]
  },
  {
   "cell_type": "code",
   "execution_count": null,
   "id": "f0c21b2d-8d87-454c-a086-058130451c9d",
   "metadata": {},
   "outputs": [],
   "source": [
    "# Load the plays with QB under pressure\n",
    "qb_pressure_df = process_qb_pressure_data(games_file, player_play_file, players_file, plays_file)"
   ]
  },
  {
   "cell_type": "code",
   "execution_count": null,
   "id": "d4ed9365-fa53-47af-ba17-9cd9113fd9e7",
   "metadata": {},
   "outputs": [],
   "source": [
    "qb_pressure_df.head()"
   ]
  },
  {
   "cell_type": "code",
   "execution_count": null,
   "id": "583e002c-59b4-4783-b62d-8bf442ca64ab",
   "metadata": {},
   "outputs": [],
   "source": [
    "# Load the plays with NO pressure\n",
    "qb_no_pressure_df = process_qb_pressure_data(games_file, player_play_file, players_file, plays_file, False)"
   ]
  },
  {
   "cell_type": "code",
   "execution_count": null,
   "id": "e8cdc378-5a40-4914-9be7-3dc8f3518a04",
   "metadata": {},
   "outputs": [],
   "source": [
    "qb_no_pressure_df.head()"
   ]
  },
  {
   "cell_type": "markdown",
   "id": "047fbcf3-45f9-4eda-8447-ac280040acd0",
   "metadata": {},
   "source": [
    "[Back to Table of Contents](#Table-of-Contents)"
   ]
  },
  {
   "cell_type": "markdown",
   "id": "1df9fab9-b2de-45a1-aff5-a99978be2905",
   "metadata": {},
   "source": [
    "## Data Cleaning & EDA"
   ]
  },
  {
   "cell_type": "markdown",
   "id": "3d52b792-8c2e-4215-89ec-b44e292e4d18",
   "metadata": {},
   "source": [
    "Now that we've loaded our 2 datasets, let's start by double-checking there are no overlaps between the 2 dataframes."
   ]
  },
  {
   "cell_type": "code",
   "execution_count": null,
   "id": "7c2ebd70-5c79-4c27-8fef-6c3a82e5a13f",
   "metadata": {},
   "outputs": [],
   "source": [
    "len(set(qb_pressure_df['game_play_id']).intersection(set(qb_no_pressure_df['game_play_id'])))"
   ]
  },
  {
   "cell_type": "markdown",
   "id": "160f1b40-5937-4f9e-aa93-0204a2375766",
   "metadata": {},
   "source": [
    "Let's start with some EDA and further cleanup of each dataframe."
   ]
  },
  {
   "cell_type": "code",
   "execution_count": null,
   "id": "98bdc951-016c-4604-a7cf-84cd3834ff19",
   "metadata": {
    "scrolled": true
   },
   "outputs": [],
   "source": [
    "# Check dataframe data types and counts\n",
    "qb_pressure_df.info()"
   ]
  },
  {
   "cell_type": "code",
   "execution_count": null,
   "id": "e833835c-e7d5-4928-a855-cd2beb10de23",
   "metadata": {},
   "outputs": [],
   "source": [
    "# Check dataframe descriptive stats\n",
    "qb_pressure_df.describe()"
   ]
  },
  {
   "cell_type": "markdown",
   "id": "d4c60918-8c74-4143-8046-f1b6b3a5417c",
   "metadata": {},
   "source": [
    "To analyze pass vs. scramble decisions, we will use `passResult` as a key determinant. But, there are 3 null values for `passResult` in the \"pressure\" dataframe. Let's see what's going on there..."
   ]
  },
  {
   "cell_type": "code",
   "execution_count": null,
   "id": "ed500cc8-c9d7-4e4d-9f57-98a2f775843e",
   "metadata": {},
   "outputs": [],
   "source": [
    "qb_pressure_df[qb_pressure_df['passResult'].isnull()]"
   ]
  },
  {
   "cell_type": "markdown",
   "id": "dc2511d9-35e0-43cf-8a3a-50dde3c8c3dc",
   "metadata": {},
   "source": [
    "`passResult` is null, but `hadRushAttempt` is 1 in each case, and all pass related fields are null. Looks like these should be marked as \"scrambles\", but let's go back and look at the play descriptions to make sure."
   ]
  },
  {
   "cell_type": "code",
   "execution_count": null,
   "id": "d9c7ffd4-3c28-41fe-9e27-0c1bce56baa7",
   "metadata": {},
   "outputs": [],
   "source": [
    "# First, get the rows with null values for passResult\n",
    "null_rows = qb_pressure_df[qb_pressure_df['passResult'].isnull()]\n",
    "\n",
    "# Then merge with plays_df to get matching play descriptions\n",
    "plays_df = pd.read_csv(plays_file)\n",
    "results = pd.merge(\n",
    "    null_rows[['gameId', 'playId']], \n",
    "    plays_df[['gameId', 'playId', 'playDescription']], \n",
    "    on=['gameId', 'playId'])\n",
    "\n",
    "print(results['playDescription'].values[:3])"
   ]
  },
  {
   "cell_type": "markdown",
   "id": "c19f4688-8002-413f-bc41-92fe8f9e6c0b",
   "metadata": {},
   "source": [
    "We would have been wrong to drop these null value rows. Looking at the play descriptions, they're all scrambles, so let's override `passResult` with \"R\". With just 3 null values to worry about, a manual adjustment was not a problem, but as we will see for the \"no pressure\" dataframe below, we will need to handle these null values more systematically for greater numbers."
   ]
  },
  {
   "cell_type": "code",
   "execution_count": null,
   "id": "4e3eb733-c1db-416c-9399-48dc8f40df4a",
   "metadata": {},
   "outputs": [],
   "source": [
    "null_indices = null_rows.index\n",
    "qb_pressure_df.loc[null_indices, 'passResult'] = 'R'"
   ]
  },
  {
   "cell_type": "markdown",
   "id": "2c19e842-d880-4773-826a-4b761e4b0541",
   "metadata": {},
   "source": [
    "Let's also make sure there are no conflicts in the `qbSneak`, `qbSpike`, `qbKneel` indicator fields. We can't have multiple \"True\" values across these 3 fields for a single play. Since they're mixed type, let's fill the NaN values in the object (True/False) columns with False and set as integer. `qbKneel` is already an integer field.\n",
    "\n",
    "Thankfully, we have no conflicts."
   ]
  },
  {
   "cell_type": "code",
   "execution_count": null,
   "id": "1722a9e8-a9f6-464d-9a52-aecdaac93f8e",
   "metadata": {},
   "outputs": [],
   "source": [
    "sneak = qb_pressure_df['qbSneak'].fillna(False).astype(int)\n",
    "spike = qb_pressure_df['qbSpike'].fillna(False).astype(int)\n",
    "kneel = qb_pressure_df['qbKneel']\n",
    "\n",
    "# Sum across these converted values - any row with sum > 1 has multiple True values\n",
    "multiple_trues = qb_pressure_df[sneak + spike + kneel > 1]\n",
    "\n",
    "# Show how many such rows exist\n",
    "print(f\"Number of rows with multiple True values: {len(multiple_trues)}\")"
   ]
  },
  {
   "cell_type": "markdown",
   "id": "8f524479-c9d2-48ef-bda9-411496fd4f99",
   "metadata": {},
   "source": [
    "From `passResult`, we know what's obviously a pass (complete passes, incomplete passes, interceptions) and what's obviously a scramble. Technically, we also know that a QB sack must be an intended pass. This is per NFL's own definition - in order to be considered a sack, the QB must intend to throw a forward pass. If the QB scrambles and gets tackled behind the line of scrimmage, that play is recorded as a \"tackle for loss\". Let's make sure there are no QB sacks recorded as QB scrambles."
   ]
  },
  {
   "cell_type": "code",
   "execution_count": null,
   "id": "c645327c-7d3b-46e1-9415-196837413c73",
   "metadata": {},
   "outputs": [],
   "source": [
    "len(qb_pressure_df[(qb_pressure_df['passResult']=='S') & (qb_pressure_df['hadRushAttempt']==1)])"
   ]
  },
  {
   "cell_type": "markdown",
   "id": "5839e379-dff7-4135-bced-0fee4df3a608",
   "metadata": {},
   "source": [
    "Let's check the \"no pressure\" dataframe as well. We see that there are >6k null values for `passResult` in the \"no pressure\" dataframe. Let's see what's going on there..."
   ]
  },
  {
   "cell_type": "code",
   "execution_count": null,
   "id": "75fa59c1-5ca3-4d7c-9098-a962a57a6d5d",
   "metadata": {
    "scrolled": true
   },
   "outputs": [],
   "source": [
    "qb_no_pressure_df.info()"
   ]
  },
  {
   "cell_type": "code",
   "execution_count": null,
   "id": "e4a315f5-67a5-4106-b469-fa04c32526a4",
   "metadata": {},
   "outputs": [],
   "source": [
    "qb_no_pressure_df[qb_no_pressure_df['passResult'].isnull()].sample(5)"
   ]
  },
  {
   "cell_type": "markdown",
   "id": "9e426106-06d9-4540-8c16-60b0daaf6b34",
   "metadata": {},
   "source": [
    "When not under pressure, the QB has a lot more options, including as-designed running plays. For our analysis, we only care about the \"no pressure\" plays for comparative purposes. So let's write a rule-based cleanup function to override null value `passResult` rows where applicable and to set a new column called `playType` which determines whether each play was intended to be a passing play or a QB scramble. We are not interested in running plays not involving the QB. We can also use our function on the \"pressure\" dataframe. The hierarchy of rules are as follows:\n",
    "- Drop all QB kneels, spikes and sneak plays, since these are not relevant for our analysis of \"pressure\" situations, given these decisions are taken before the QB is aware of any potential defensive pressure\n",
    "- If `passResult` is \"Complete pass\", \"Incomplete pass\", Iinterception\" or \"Sack\", then `playType` is \"Pass\"\n",
    "- Otherwise, if `passResult` is \"Scramble\", then so is `playType`\n",
    "- If `hadRushAttempt` equals 1, then both `passResult` and `playType` is \"Scramble\"\n",
    "- Finally, all remaining rows should be dropped, as these are not QB-centric plays (i.e., not ones where the QB is either passing or scrambling)"
   ]
  },
  {
   "cell_type": "code",
   "execution_count": null,
   "id": "537de5c0-5fa3-4b74-96d6-4404c86ffd82",
   "metadata": {},
   "outputs": [],
   "source": [
    "def set_playType(df):\n",
    "    '''\n",
    "    Processes dataframe with QB plays to eliminate plays with null passResult values,\n",
    "    create more descriptive passResult field and populate playType field (\"Scramble\" vs. \"Pass\").\n",
    "    \n",
    "    Args:\n",
    "        df (pd.DataFrame): DataFrame with QB plays\n",
    "        \n",
    "    Returns:\n",
    "        pd.DataFrame: Cleaned DataFrame with QB plays and populated playType\n",
    "    '''\n",
    "\n",
    "    # Drop QB kneel, spike and sneak plays, as these are not relevant to our analysis\n",
    "    df = df[~((df['qbKneel'] == 1) | (df['qbSpike'] == True) | (df['qbSneak'] == True))]\n",
    "\n",
    "    # Create playType field with \"Unknown\" as default value\n",
    "    df['playType'] = 'Unknown'\n",
    "    \n",
    "    # Set Pass plays for passResult values of C, I, IN and S\n",
    "    df.loc[df['passResult'].isin(['C', 'I', 'IN', 'S']), 'playType'] = 'Pass'\n",
    "    \n",
    "    # Set Scramble plays for passResult = R or hadRushAttempt = 1\n",
    "    # If hadRushAttempt = 1, we should override null passResult values with R\n",
    "    df.loc[df['passResult'] == 'R', 'playType'] = 'Scramble'\n",
    "    df.loc[df['hadRushAttempt'] == 1, 'playType'] = 'Scramble'\n",
    "    df.loc[df['hadRushAttempt'] == 1, 'passResult'] = 'R'\n",
    "\n",
    "    # Finally, drop the rows with Unknown playType\n",
    "    # (which also drops the null passResult rows that we cannot identify as a QB play)\n",
    "    df = df[df['playType'] != 'Unknown']\n",
    "\n",
    "    # Let's map passResult to more descriptive values\n",
    "    passResult_mapping = {\n",
    "        'C': 'Complete Pass',\n",
    "        'I': 'Incomplete Pass',\n",
    "        'S': 'QB Sack',\n",
    "        'R': 'Scramble',\n",
    "        'IN': 'Interception'}\n",
    "    df['passResultLong'] = df['passResult'].map(passResult_mapping).fillna('Unknown')\n",
    "\n",
    "    return df"
   ]
  },
  {
   "cell_type": "code",
   "execution_count": null,
   "id": "29e642af-dd4e-4a70-b060-84cd9c320342",
   "metadata": {},
   "outputs": [],
   "source": [
    "qb_pressure_df = set_playType(qb_pressure_df)\n",
    "qb_no_pressure_df = set_playType(qb_no_pressure_df)"
   ]
  },
  {
   "cell_type": "markdown",
   "id": "3a8ade8c-8e83-481a-857b-097c8f78d022",
   "metadata": {},
   "source": [
    "We are left with 6,800 no-pressure plays involving the QB (vs. the original 12,836)."
   ]
  },
  {
   "cell_type": "code",
   "execution_count": null,
   "id": "019a1137-f0fe-4dad-8f8d-d7aef0c018a8",
   "metadata": {
    "scrolled": true
   },
   "outputs": [],
   "source": [
    "qb_no_pressure_df.info()"
   ]
  },
  {
   "cell_type": "markdown",
   "id": "ca874ad6-9b06-494a-914e-63bb42938a28",
   "metadata": {},
   "source": [
    "[Back to Table of Contents](#Table-of-Contents)"
   ]
  },
  {
   "cell_type": "markdown",
   "id": "17e90628-157b-4aea-b9bf-98b91ccafc0a",
   "metadata": {},
   "source": [
    "## Aggregate Level Analysis"
   ]
  },
  {
   "cell_type": "markdown",
   "id": "e5cc4546-f6ff-49d4-a11f-bce2c456da1a",
   "metadata": {},
   "source": [
    "We begin by looking at the mix of pass vs. scramble plays when the QB is under pressure vs. no pressure. We see that the majority of our dataset is made up of passing plays. This is as expected for the \"pressure\" dataset, since pressure situations occur when the QB dropsback for a pass and in a minority of the situations, he is forced to scramble. This is also as expected for the \"no pressure\" dataset, since we have purposefully excluded as-designed running plays. The interesting observation here is that QBs scramble less often when under pressure compared to \"no pressure\" situations."
   ]
  },
  {
   "cell_type": "code",
   "execution_count": null,
   "id": "8e165d21-f713-491a-91a8-3b1b0539121c",
   "metadata": {},
   "outputs": [],
   "source": [
    "# playType mix for pressured vs. unpressured plays\n",
    "pressure_mix = qb_pressure_df['playType'].value_counts(normalize=True).multiply(100).round(1).reset_index().rename(columns={'proportion': 'Pressure'})\n",
    "no_pressure_mix = qb_no_pressure_df['playType'].value_counts(normalize=True).multiply(100).round(1).reset_index().rename(columns={'proportion': 'No Pressure'})\n",
    "combined_play_mix = pressure_mix.merge(no_pressure_mix, on='playType')\n",
    "combined_play_mix"
   ]
  },
  {
   "cell_type": "markdown",
   "id": "79a48614-c7d9-497c-ba91-0c8b8d8c3842",
   "metadata": {},
   "source": [
    "We would like to visualize this data in a bar chart. We'll have more bar charts to create, so here's a function we can reuse later."
   ]
  },
  {
   "cell_type": "code",
   "execution_count": null,
   "id": "a900dc9d-41e3-4158-8688-1fca4bf2a827",
   "metadata": {},
   "outputs": [],
   "source": [
    "def create_bar_chart(data, x_col, y_col, text_col, title, y_max=None,\n",
    "                     width=600, height=400, sort_order=None,\n",
    "                     label_angle=0, label_size=12):\n",
    "    \"\"\"\n",
    "    Create formatted bar chart\n",
    "    \n",
    "    Args:\n",
    "        df (pandas DataFrame) : Data to plot\n",
    "        x_col (str): Column name for x-axis categories\n",
    "        y_col (str): Column name for y-axis values\n",
    "        text_col (str): Column name for bar labels\n",
    "        title (str): Chart title\n",
    "        y_max (float): Optional maximum value for y-axis scale, will auto-scale by default\n",
    "        width (int): Optional chart width in pixels (default 600)\n",
    "        height (int): Optional chart height in pixels (default 400)\n",
    "        sort_order (str): Optional parameter\n",
    "        label_angle (int): Optional angle for x-axis labels (default 0)\n",
    "        label_size (int): Optional font size for x-axis and data labels (default 12)\n",
    "        \n",
    "    Returns:\n",
    "        altair.Chart: Formatted bar chart with text labels\n",
    "    \"\"\"\n",
    "    \n",
    "    # Base bar chart\n",
    "    chart = alt.Chart(data).mark_bar().encode(\n",
    "        x=alt.X(f'{x_col}:N',\n",
    "                title=None,\n",
    "                sort=sort_order,\n",
    "                axis=alt.Axis(\n",
    "                    labelAngle=label_angle,\n",
    "                    labelFontSize=label_size)),\n",
    "        y=alt.Y(f'{y_col}:Q',\n",
    "                title=None,\n",
    "                axis=None,\n",
    "                scale=alt.Scale(domain=[0, data[y_col].max() * 1.1] if y_max is None else [0, y_max]))\n",
    "    ).properties(\n",
    "        width=width,\n",
    "        height=height,\n",
    "        title=title)\n",
    "    \n",
    "    # Text labels\n",
    "    text = chart.mark_text(\n",
    "        align='center',\n",
    "        baseline='bottom',\n",
    "        dy=-5,\n",
    "        fontSize=label_size\n",
    "    ).encode(\n",
    "        text=alt.Text(f'{text_col}:N'))\n",
    "    \n",
    "    # Return combined chart and text\n",
    "    return (chart + text).configure_view(\n",
    "        strokeWidth=0)"
   ]
  },
  {
   "cell_type": "code",
   "execution_count": null,
   "id": "ebd17276-9bf2-429e-9938-aee377a4671b",
   "metadata": {},
   "outputs": [],
   "source": [
    "# Filter scramble rates and melt into long form\n",
    "scramble_rates = combined_play_mix[combined_play_mix['playType'] == 'Scramble'].melt(\n",
    "    id_vars=['playType'], \n",
    "    value_vars=['Pressure', 'No Pressure'])\n",
    "scramble_rates"
   ]
  },
  {
   "cell_type": "code",
   "execution_count": null,
   "id": "7aa12831-05dc-4162-9e56-03d93a9d2720",
   "metadata": {},
   "outputs": [],
   "source": [
    "# Bar chart showing scramble rates with and without pressure\n",
    "scramble_rates['label'] = scramble_rates['value'].astype(str) + '%'\n",
    "\n",
    "create_bar_chart(\n",
    "    data=scramble_rates,\n",
    "    x_col='variable',\n",
    "    y_col='value',\n",
    "    text_col='label',\n",
    "    title='Scramble Rate (Pressure vs No Pressure)',\n",
    "    y_max=10)"
   ]
  },
  {
   "cell_type": "markdown",
   "id": "b0781297-d64b-4ec7-b3d6-20f0b4cf63ba",
   "metadata": {},
   "source": [
    "An interesting decision a QB makes when under pressure is whether to scramble or not. Let's look at scramble rates by which down it is, but to have a point of comparison, let's do it for both \"pressure\" and \"no pressure\" plays. We use our `create_bar_chart` function to help visualize for each dataset. We see that QBs are most likely to scramble on 3rd down plays. This is even more evident in the \"no pressure\" dataset."
   ]
  },
  {
   "cell_type": "code",
   "execution_count": null,
   "id": "73cb0bdd-a234-46c8-9aca-5bf11ac82960",
   "metadata": {},
   "outputs": [],
   "source": [
    "# Create dataframe of scramble rates by down between pressure and no pressure plays\n",
    "pressure_play_mix_by_down = (qb_pressure_df.groupby('down')['playType'].value_counts(normalize=True)\n",
    "                             .unstack(fill_value=0).multiply(100).round(1))\n",
    "no_pressure_play_mix_by_down = (qb_no_pressure_df.groupby('down')['playType'].value_counts(normalize=True)\n",
    "                                .unstack(fill_value=0).multiply(100).round(1))\n",
    "combined_scramble_by_down = pd.DataFrame({\n",
    "    'Pressure': pressure_play_mix_by_down['Scramble'],\n",
    "    'No Pressure': no_pressure_play_mix_by_down['Scramble']}).reset_index()\n",
    "combined_scramble_by_down"
   ]
  },
  {
   "cell_type": "code",
   "execution_count": null,
   "id": "7bdbeb8e-d687-422d-9c93-1a4ede6ba3f1",
   "metadata": {},
   "outputs": [],
   "source": [
    "# Bar chart showing scramble rates under pressure by down\n",
    "combined_scramble_by_down['pressure_label'] = combined_scramble_by_down['Pressure'].astype(str) + '%'\n",
    "\n",
    "create_bar_chart(\n",
    "    data=combined_scramble_by_down,\n",
    "    x_col='down',\n",
    "    y_col='Pressure',\n",
    "    text_col='pressure_label',\n",
    "    title='Scramble Rate by Down (w/ QB Under Pressure)',\n",
    "    y_max=8)"
   ]
  },
  {
   "cell_type": "code",
   "execution_count": null,
   "id": "ed00ce0b-93a0-4955-a8e5-cef96a4ed8ff",
   "metadata": {},
   "outputs": [],
   "source": [
    "# Bar chart showing scramble rates by down with no pressure\n",
    "combined_scramble_by_down['no_pressure_label'] = combined_scramble_by_down['No Pressure'].astype(str) + '%'\n",
    "\n",
    "create_bar_chart(\n",
    "    data=combined_scramble_by_down,\n",
    "    x_col='down',\n",
    "    y_col='No Pressure',\n",
    "    text_col='no_pressure_label',\n",
    "    title='Scramble Rate by Down (w/ No Pressure)',\n",
    "    y_max=12)"
   ]
  },
  {
   "cell_type": "markdown",
   "id": "d5092ed1-f19c-4fef-96d7-3a22a2b741b4",
   "metadata": {},
   "source": [
    "The scramble rates for 4th downs are lower, which is odd. Normally, later downs should on average have fewer yards remaining to first down, making scrambles more likely to succeed. Presumably there are many fewer 4th down plays where the team on offense goes for 1st down. Let's confirm by calculating the number of plays and average yards remaining to first down by down. As suspected, much fewer 4th down plays in both datasets, making the lower average scramble rates seen above less meaningful, despite having fewer yards to first down."
   ]
  },
  {
   "cell_type": "code",
   "execution_count": null,
   "id": "6915f2cd-1769-4d87-a513-c3904665c224",
   "metadata": {},
   "outputs": [],
   "source": [
    "# Stats for \"pressure\" plays\n",
    "qb_pressure_df.groupby('down').agg({\n",
    "    'game_play_id': 'count',\n",
    "    'yardsToGo': 'mean'\n",
    "}).rename(columns={'game_play_id': 'num_plays', 'yardsToGo': 'avg_yards_to_go'}).round(1)"
   ]
  },
  {
   "cell_type": "code",
   "execution_count": null,
   "id": "f1db5dce-e592-4ce7-8f58-a54fc48b9907",
   "metadata": {},
   "outputs": [],
   "source": [
    "# Stats for \"no pressure\" plays\n",
    "qb_no_pressure_df.groupby('down').agg({\n",
    "    'game_play_id': 'count',\n",
    "    'yardsToGo': 'mean'\n",
    "}).rename(columns={'game_play_id': 'num_plays', 'yardsToGo': 'avg_yards_to_go'}).round(1)"
   ]
  },
  {
   "cell_type": "markdown",
   "id": "b5a02271-c148-4bd0-a309-d876bab84b32",
   "metadata": {},
   "source": [
    "Next, let's look at passing plays and the likelihood of different outcomes, namely, completions, incomplete passes, interceptions and sacks. By filtering our `playType` equal to \"Scramble\", we effectively get the completion rate a QB is able to achieve \"under pressure\" vs. \"no pressure\". We focus our attention to completion rates, which is the most stark difference between the two datasets, with roughly 30%-points lower pass completion rate when under pressure."
   ]
  },
  {
   "cell_type": "code",
   "execution_count": null,
   "id": "eddf304d-d8bc-440d-bd13-4641f7612dce",
   "metadata": {},
   "outputs": [],
   "source": [
    "# Pass result percentages (completion rate, etc.) -- need to filter for playType == \"Pass\" to exclude scrambles from denominator\n",
    "pressure_passResult_df = (qb_pressure_df[qb_pressure_df['playType']=='Pass']['passResultLong']\n",
    "                          .value_counts(normalize=True).multiply(100).round(1).reset_index().rename(columns={'proportion': 'Pressure'}))\n",
    "no_pressure_passResult_df = (qb_no_pressure_df[qb_no_pressure_df['playType']=='Pass']['passResultLong']\n",
    "                             .value_counts(normalize=True).multiply(100).round(1).reset_index().rename(columns={'proportion': 'No Pressure'}))\n",
    "combined_passResult_mix = pressure_passResult_df.merge(no_pressure_passResult_df, on='passResultLong')\n",
    "combined_passResult_mix"
   ]
  },
  {
   "cell_type": "markdown",
   "id": "868ef4f6-1a9e-4b63-8218-11323c914886",
   "metadata": {},
   "source": [
    "It's interesting to see zero QB sacks when there is no pressure. Looks like there are only 2 plays that ended in a sack, which got rounded down to 0.0%. This is likely a function of how \"pressure\" data is collected (remember out `causedPressure` variable). By definition, a situation where the QB gets sacked, there must have been defensive pressure. These 2 plays are likely either errors in the original data or perhaps fluke plays that were recorded as a sack without the need for defensive pressure (e.g., if the QB slipped and was ultimately down by contact from a nearby defensive player)."
   ]
  },
  {
   "cell_type": "code",
   "execution_count": null,
   "id": "67c3a78e-cfa6-4a9e-9964-a19a3729d588",
   "metadata": {},
   "outputs": [],
   "source": [
    "qb_no_pressure_df[qb_no_pressure_df['passResult']=='S']"
   ]
  },
  {
   "cell_type": "code",
   "execution_count": null,
   "id": "2171db82-0c66-4ca8-af19-1bedf38430a3",
   "metadata": {},
   "outputs": [],
   "source": [
    "# Bar chart showing distribution of play results under pressure\n",
    "pressure_passResult_df['label'] = pressure_passResult_df['Pressure'].astype(str) + '%'\n",
    "\n",
    "create_bar_chart(\n",
    "    data=pressure_passResult_df,\n",
    "    x_col='passResultLong',\n",
    "    y_col='Pressure',\n",
    "    text_col='label',\n",
    "    title='Distribution of Passing Play Results (w/ QB Under Pressure)',\n",
    "    y_max=80, # set to same scale as \"No Pressure\" chart. Use y_max=50 to make this chart look better as a standalone\n",
    "    sort_order='-y'\n",
    ")"
   ]
  },
  {
   "cell_type": "code",
   "execution_count": null,
   "id": "57627fa8-e580-4b40-8a96-046215e9fb9b",
   "metadata": {},
   "outputs": [],
   "source": [
    "# Bar chart showing distribution of play results with no pressure\n",
    "no_pressure_passResult_df['label'] = no_pressure_passResult_df['No Pressure'].astype(str) + '%'\n",
    "\n",
    "# Set same order as \"Pressure\" chart for ease of side-by-side comparison\n",
    "custom_order = ['Complete Pass', 'Incomplete Pass', 'QB Sack', 'Interception']\n",
    "\n",
    "create_bar_chart(\n",
    "    data=no_pressure_passResult_df,\n",
    "    x_col='passResultLong',\n",
    "    y_col='No Pressure',\n",
    "    text_col='label',\n",
    "    title='Distribution of Passing Play Results (w/ No Pressure)',\n",
    "    y_max=80,\n",
    "    sort_order=custom_order # set sort_order='-y' for standalone chart with descending order values along x-axis\n",
    ")"
   ]
  },
  {
   "cell_type": "markdown",
   "id": "c43fe942-2fb3-4261-9195-3758429ebb9b",
   "metadata": {},
   "source": [
    "Next, we look at some key statistics for each dataset, namely, yards gained (before any penalty effects), rushing vs. passing yards, average pass length (distance the ball is in the air, regardless of outcome), average time to throw and average time the QB spent in the tackle box (behind the line of scrimmage, without scrambling). One caveat here is that we need to use `prePenaltyYardsGained` to calculate average rushing yards and average passing yards (as opposed to `rushingYards` and `passingYards`, since these fields are often recorded as zeros for plays resulting in loss of yardage, whereas `prePenaltyYardsGained` also shows negative values).\n",
    "\n",
    "We note that, on average, yards gained on \"no pressure\" plays are double the yards gained on \"pressure\" plays (which is probably not a surprise). Interestingly, scrambling when under pressure yields higher yardage gains vs. \"no pressure\" situations, perhaps because scrambles are very selectively used (remember, they are roughly 5% of the \"pressure\" plays) and the QB probably finds a bit more space once past the line of scrimmage, if he can get past the incoming pressure.\n",
    "\n",
    "Despite this relative advantage in scrambling success (re-emphasizing the relevance of selection bias), the overall yardage gain for \"pressure\" plays is poor due to the much lower success in average passing yards. This, most certainly, has to do with the much lower completion rate we observed above.\n",
    "\n",
    "There are also some interesting differences in QBs, on average, throwing slightly longer passes, after taking slightly longer when under pressure, but we'll need to investigate this further."
   ]
  },
  {
   "cell_type": "code",
   "execution_count": null,
   "id": "0f0f41ec-0ee3-4ec5-9348-cf7ed3335b1c",
   "metadata": {},
   "outputs": [],
   "source": [
    "# Calculate average stats for Pressure vs. No Pressure plays\n",
    "pressure_stats = pd.Series({\n",
    "    'Play Count': qb_pressure_df['passResultLong'].count(),\n",
    "    'Avg Pre-Penalty Yards': qb_pressure_df['prePenaltyYardsGained'].mean(),\n",
    "    'Avg Rush Yards': qb_pressure_df.loc[qb_pressure_df['playType'] == 'Scramble', 'prePenaltyYardsGained'].mean(),\n",
    "    'Avg Pass Yards': qb_pressure_df.loc[qb_pressure_df['playType'] == 'Pass', 'prePenaltyYardsGained'].mean(),\n",
    "    'Avg Pass Length': qb_pressure_df.loc[qb_pressure_df['playType'] == 'Pass', 'passLength'].mean(),\n",
    "    'Avg Time to Throw': qb_pressure_df.loc[qb_pressure_df['playType'] == 'Pass', 'timeToThrow'].mean(),\n",
    "    'Avg Time in Tackle Box': qb_pressure_df.loc[qb_pressure_df['playType'] == 'Pass', 'timeInTackleBox'].mean()\n",
    "}).round(1)\n",
    "\n",
    "no_pressure_stats = pd.Series({\n",
    "    'Play Count': qb_no_pressure_df['passResultLong'].count(),\n",
    "    'Avg Pre-Penalty Yards': qb_no_pressure_df['prePenaltyYardsGained'].mean(),\n",
    "    'Avg Rush Yards': qb_no_pressure_df.loc[qb_no_pressure_df['playType'] == 'Scramble', 'prePenaltyYardsGained'].mean(),\n",
    "    'Avg Pass Yards': qb_no_pressure_df.loc[qb_no_pressure_df['playType'] == 'Pass', 'prePenaltyYardsGained'].mean(),\n",
    "    'Avg Pass Length': qb_no_pressure_df.loc[qb_no_pressure_df['playType'] == 'Pass', 'passLength'].mean(),\n",
    "    'Avg Time to Throw': qb_no_pressure_df.loc[qb_no_pressure_df['playType'] == 'Pass', 'timeToThrow'].mean(),\n",
    "    'Avg Time in Tackle Box': qb_no_pressure_df.loc[qb_no_pressure_df['playType'] == 'Pass', 'timeInTackleBox'].mean()\n",
    "}).round(1)\n",
    "\n",
    "# Combine into single DataFrame\n",
    "combined_stats = pd.DataFrame({'Pressure': pressure_stats, 'No Pressure': no_pressure_stats}).reset_index().rename(columns={'index': 'Stat'})\n",
    "combined_stats"
   ]
  },
  {
   "cell_type": "markdown",
   "id": "079f1f29-6150-4ea8-a726-62c7121d3d67",
   "metadata": {},
   "source": [
    "Let's dig one level deeper and look at the same stats by different play results. A few things stand out. First, the stronger passing yards for \"no pressure\" plays indeed has to do with completion rate differences. Yards gained on completed passes are actually higher for \"pressure\" plays.\n",
    "\n",
    "Second, the longer average length of pass for \"pressure\" plays really presents itself in plays that resulted in interceptions. The data suggests that QBs facing pressure should prioritize shorter passes.\n",
    "\n",
    "Third, sacks have a distinctly longer average time in the tackle box relative to other outcomes. Another suggestion from this data would be that a sack becomes much more likely as QB time in the tackle box starts approacing 4 seconds. "
   ]
  },
  {
   "cell_type": "code",
   "execution_count": null,
   "id": "b5ed2288-9de5-4d4a-9675-32f902970717",
   "metadata": {},
   "outputs": [],
   "source": [
    "# Stats for pressure plays\n",
    "qb_pressure_df.groupby(['passResultLong']).agg(\n",
    "    count=('passResultLong', 'count'),\n",
    "    avg_yards=('prePenaltyYardsGained', 'mean'),\n",
    "    avg_rush_yards=('rushingYards', 'mean'),\n",
    "    avg_pass_yards=('passingYards', 'mean'),\n",
    "    avg_pass_length=('passLength', 'mean'),\n",
    "    avg_time_to_throw=('timeToThrow', 'mean'),\n",
    "    avg_time_in_tackle_box=('timeInTackleBox', 'mean')).round(1).reset_index()"
   ]
  },
  {
   "cell_type": "code",
   "execution_count": null,
   "id": "f76d0a21-1b45-48d1-9502-1878505b7127",
   "metadata": {},
   "outputs": [],
   "source": [
    "# And also for no pressure plays\n",
    "qb_no_pressure_df.groupby(['passResultLong']).agg(\n",
    "    count=('passResultLong', 'count'),\n",
    "    avg_yards=('prePenaltyYardsGained', 'mean'),\n",
    "    avg_rush_yards=('rushingYards', 'mean'),\n",
    "    avg_pass_yards=('passingYards', 'mean'),\n",
    "    avg_pass_length=('passLength', 'mean'),\n",
    "    avg_time_to_throw=('timeToThrow', 'mean'),\n",
    "    avg_time_in_tackle_box=('timeInTackleBox', 'mean')).round(1).reset_index()"
   ]
  },
  {
   "cell_type": "markdown",
   "id": "2797ec14-c514-44ab-a7b9-0e46e2836142",
   "metadata": {},
   "source": [
    "Let's go back to looking at just pre-penalty yards gained by pass vs. scramble play types and \"pressure\" vs. \"no pressure\" plays."
   ]
  },
  {
   "cell_type": "code",
   "execution_count": null,
   "id": "9b274019-b479-4c5e-a3f4-b11c182af584",
   "metadata": {},
   "outputs": [],
   "source": [
    "# Calculate average yards for pressure plays\n",
    "avg_yards_pressure = qb_pressure_df.groupby('playType')['prePenaltyYardsGained'].mean().round(1).reset_index()\n",
    "avg_yards_pressure = avg_yards_pressure.rename(columns={'prePenaltyYardsGained': 'Pressure'})\n",
    "\n",
    "# Calculate average yards for no pressure plays\n",
    "avg_yards_no_pressure = qb_no_pressure_df.groupby('playType')['prePenaltyYardsGained'].mean().round(1).reset_index()\n",
    "avg_yards_no_pressure = avg_yards_no_pressure.rename(columns={'prePenaltyYardsGained': 'No Pressure'})\n",
    "\n",
    "# Merge the two dataframes\n",
    "avg_yards_df = avg_yards_pressure.merge(avg_yards_no_pressure, on='playType')\n",
    "avg_yards_df"
   ]
  },
  {
   "cell_type": "code",
   "execution_count": null,
   "id": "1851dd20-9be8-464f-87ae-794bf1f3b8d0",
   "metadata": {},
   "outputs": [],
   "source": [
    "# Melt into long format for Altair\n",
    "avg_yards_df_long = avg_yards_df.melt(\n",
    "    id_vars=['playType'],\n",
    "    var_name='group',\n",
    "    value_name='avgYards')\n",
    "avg_yards_df_long"
   ]
  },
  {
   "cell_type": "code",
   "execution_count": null,
   "id": "76e6922e-1f2d-4e5b-9e29-8ceb56cf65c2",
   "metadata": {},
   "outputs": [],
   "source": [
    "# Want to put this in a grouped bar chart, which we may need to repeat, so here's a function we can reuse\n",
    "def create_grouped_bar_chart(data, category_col, group_col, value_col, title, y_max=None, width=600, height=400, sort_order=None):\n",
    "    \"\"\"\n",
    "    Create formatted grouped bar chart\n",
    "    \n",
    "    Args:\n",
    "        df (pandas DataFrame) : Data to plot in long format\n",
    "        category_col (str): Column name for main categories (e.g., Pass vs. Scramble)\n",
    "        group_col (str): Column name for group names (e.g., Pressure vs. No Pressure)\n",
    "        value_col (str): Column name for y-axis values\n",
    "        title (str): Chart title\n",
    "        y_max (float): Optional maximum value for y-axis scale, will auto-scale by default\n",
    "        width (int): Optional chart width in pixels (default 600)\n",
    "        height (int): Optional chart height in pixels (default 400)\n",
    "        sort_order (str): Optional lsit for sorting groups\n",
    "        \n",
    "    Returns:\n",
    "        altair.Chart: Formatted grouped bar chart with text labels\n",
    "    \"\"\"\n",
    "    \n",
    "    # Base grouped bar chart\n",
    "    chart = alt.Chart(data).mark_bar().encode(\n",
    "        x=alt.X(f'{group_col}:N',\n",
    "                title=None,\n",
    "                sort=sort_order,\n",
    "                axis=alt.Axis(\n",
    "                    labelAngle=0,\n",
    "                    labelFontSize=12)),\n",
    "        y=alt.Y(f'{value_col}:Q',\n",
    "                title=None,\n",
    "                axis=None,\n",
    "                scale=alt.Scale(domain=[0, y_max]) if y_max else alt.Scale(zero=True)),\n",
    "        xOffset=f'{category_col}:N',\n",
    "        color=alt.Color(f'{category_col}:N',\n",
    "                       scale=alt.Scale(),\n",
    "                       legend=alt.Legend(title=category_col, labelFontSize=12, titleFontSize=12))\n",
    "    ).properties(\n",
    "        width=width,\n",
    "        height=height,\n",
    "        title=title)\n",
    "    \n",
    "    # Text labels\n",
    "    text = chart.mark_text(\n",
    "        align='center',\n",
    "        baseline='bottom',\n",
    "        dy=-5\n",
    "    ).encode(\n",
    "        text=alt.Text(f'{value_col}:Q', format='.1f'))\n",
    "    \n",
    "    # Return combined chart and text\n",
    "    return (chart + text).configure_view(\n",
    "        strokeWidth=0)"
   ]
  },
  {
   "cell_type": "code",
   "execution_count": null,
   "id": "554425fa-cb16-4584-bb93-952e54994776",
   "metadata": {},
   "outputs": [],
   "source": [
    "create_grouped_bar_chart(\n",
    "    data=avg_yards_df_long,\n",
    "    category_col='playType',\n",
    "    group_col='group',\n",
    "    value_col='avgYards',\n",
    "    title='Average Yards Gained by Play Type',\n",
    "    y_max=10)"
   ]
  },
  {
   "cell_type": "markdown",
   "id": "5f647ae5-64d8-42a7-a16f-de7046116fe2",
   "metadata": {},
   "source": [
    "Let's also look at some pre-snap statistics that may have influence on QB decisions, such as the average down, average yards to first down, the score delta (where a negative value denotes the QB's team is behind) and average yards to endzone."
   ]
  },
  {
   "cell_type": "code",
   "execution_count": null,
   "id": "23b5dfbd-9819-43c0-87d6-3d22673117cb",
   "metadata": {},
   "outputs": [],
   "source": [
    "# Pre-snap stats for pressure plays\n",
    "qb_pressure_df.groupby('playType').agg(\n",
    "    count=('playType', 'count'),\n",
    "    avg_down=('down', 'mean'),\n",
    "    avg_yards_to_go=('yardsToGo', 'mean'),\n",
    "    avg_score_delta=('scoreDelta', 'mean'),\n",
    "    avg_yardline=('absoluteYardlineNumber', 'mean')).round(1)"
   ]
  },
  {
   "cell_type": "code",
   "execution_count": null,
   "id": "7843f97c-8318-47ed-a7e3-49172ff95093",
   "metadata": {},
   "outputs": [],
   "source": [
    "# Pre-snap stats for no pressure plays\n",
    "qb_no_pressure_df.groupby('playType').agg(\n",
    "    count=('playType', 'count'),\n",
    "    avg_down=('down', 'mean'),\n",
    "    avg_yards_to_go=('yardsToGo', 'mean'),\n",
    "    avg_score_delta=('scoreDelta', 'mean'),\n",
    "    avg_yardline=('absoluteYardlineNumber', 'mean')).round(1)"
   ]
  },
  {
   "cell_type": "markdown",
   "id": "8ac1ca9a-d062-45ce-bf58-15a8fc226df2",
   "metadata": {},
   "source": [
    "No immediate insights jump out from just looking at averages, so let's see how some of this data is distributed."
   ]
  },
  {
   "cell_type": "code",
   "execution_count": null,
   "id": "4a849af9-39ca-4342-8a9e-5a2fe5ab8c72",
   "metadata": {},
   "outputs": [],
   "source": [
    "# Let's create some visualizations for some of this data, but first a histogram function we can reuse\n",
    "def create_histogram(data, value_col, title, subtitle=None, x_title=None, data2=None, width=600, height=400, bins=None):\n",
    "    \"\"\"\n",
    "    Create formatted histogram, with optional overlay of second dataset\n",
    "    \n",
    "    Args:\n",
    "        data (pandas DataFrame): Primary data to plot\n",
    "        value_col (str): Column name for values to distribute\n",
    "        title (str): Chart title\n",
    "        subtitle (str): Optional chart subtitle\n",
    "        x_title (str): Optional x-axis title\n",
    "        data2 (pandas DataFrame): Optional secondary data to plot\n",
    "        bins (int): Number of bins for histogram (default None, will calculate optimal)\n",
    "        width (int): Optional chart width in pixels (default 600)\n",
    "        height (int): Optional chart height in pixels (default 400)\n",
    "        \n",
    "    Returns:\n",
    "        altair.Chart: Formatted histogram with optional overlay of secondary histogram\n",
    "    \"\"\"\n",
    "    \n",
    "    # Base histogram\n",
    "    hist1 = alt.Chart(data).transform_joinaggregate(\n",
    "        total='count()'\n",
    "    ).transform_calculate(\n",
    "        pct='1/datum.total'\n",
    "    ).mark_bar().encode(\n",
    "        x=alt.X(f'{value_col}:Q',\n",
    "                bin=alt.Bin(maxbins=bins) if bins else True,\n",
    "                title=x_title if x_title else value_col,\n",
    "                axis=alt.Axis(labelFontSize=12)),\n",
    "        y=alt.Y('sum(pct):Q',\n",
    "                title=None,\n",
    "                axis=alt.Axis(labelFontSize=12, format='%'),\n",
    "                stack=None))\n",
    "    \n",
    "    # Mean line\n",
    "    mean_line = alt.Chart(data).mark_rule(\n",
    "        color='red',\n",
    "        strokeWidth=2\n",
    "    ).encode(\n",
    "        x=alt.X(f'mean({value_col}):Q'),\n",
    "        size=alt.value(2),\n",
    "        color=alt.value('red'))\n",
    "\n",
    "    # Add overlay histogram if data2 passed through\n",
    "    if data2 is not None:\n",
    "        hist2 = alt.Chart(data2).transform_joinaggregate(\n",
    "            total='count()'\n",
    "        ).transform_calculate(\n",
    "            pct='1/datum.total'\n",
    "        ).mark_bar(\n",
    "            fillOpacity=0,\n",
    "            stroke='black',\n",
    "            strokeDash=[5, 5]\n",
    "        ).encode(\n",
    "            x=alt.X(f'{value_col}:Q',\n",
    "                   bin=alt.Bin(maxbins=bins) if bins else True),\n",
    "            y=alt.Y('sum(pct):Q', stack=None))\n",
    "        \n",
    "        combined_chart = alt.layer(hist1, hist2, mean_line)\n",
    "    else:\n",
    "        combined_chart = alt.layer(hist1, mean_line)\n",
    "    \n",
    "    # Return combined histogram with mean line and overlay\n",
    "    return combined_chart.properties(\n",
    "        width=width,\n",
    "        height=height,\n",
    "        title=alt.Title(text=title, subtitle=subtitle) if subtitle else title\n",
    "    ).configure_view(strokeWidth=0).configure_axis(titleFontSize=12)"
   ]
  },
  {
   "cell_type": "markdown",
   "id": "c6b3a062-ec06-407c-b6c5-afccb2d2c2c1",
   "metadata": {},
   "source": [
    "As with the averages, no major differences in how the \"pressure\" vs. \"no pressure\" datasets are distributed in terms of the different pre-snap stats we listed above."
   ]
  },
  {
   "cell_type": "code",
   "execution_count": null,
   "id": "7595b0d1-41ae-4dfc-857d-94cb2fbed565",
   "metadata": {},
   "outputs": [],
   "source": [
    "create_histogram(\n",
    "    data=qb_pressure_df,\n",
    "    value_col='yardsToGo',\n",
    "    title='Distribution of Yards to First Down (w/ QB Under Pressure)',\n",
    "    subtitle='(red line: Avg. Yards to First Down; dotted boxes: Distribution for No Pressure Plays)',\n",
    "    x_title='Yards',\n",
    "    data2=qb_no_pressure_df,\n",
    "    bins=10)"
   ]
  },
  {
   "cell_type": "code",
   "execution_count": null,
   "id": "cad9cee6-daec-4006-a889-b496f2b560e4",
   "metadata": {},
   "outputs": [],
   "source": [
    "create_histogram(\n",
    "    data=qb_pressure_df,\n",
    "    value_col='scoreDelta',\n",
    "    title='Distribution of Score Delta (w/ QB Under Pressure)',\n",
    "    subtitle='(red line: Avg. Score Delta; dotted boxes: Distribution for No Pressure Plays)',\n",
    "    x_title='Score Differential',\n",
    "    data2=qb_no_pressure_df,\n",
    "    bins=20)"
   ]
  },
  {
   "cell_type": "code",
   "execution_count": null,
   "id": "d982e0ff-c25f-49c8-ac9d-37f3349daabb",
   "metadata": {},
   "outputs": [],
   "source": [
    "create_histogram(\n",
    "    data=qb_pressure_df,\n",
    "    value_col='absoluteYardlineNumber',\n",
    "    title='Distribution of Yards to Endzone (w/ QB Under Pressure)',\n",
    "    subtitle='(red line: Avg. Yards to Endzone; dotted boxes: Distribution for No Pressure Plays)',\n",
    "    x_title='Yards',\n",
    "    data2=qb_no_pressure_df,\n",
    "    bins=10)"
   ]
  },
  {
   "cell_type": "markdown",
   "id": "3bcc91c3-f632-4454-a33a-0ab985360f50",
   "metadata": {},
   "source": [
    "While not necessarily a pre-snap statistic, length of pass was one of the variables that seemed to have a meaningful impact on the success of a play, so let's dive deeper into the variable `passLength`."
   ]
  },
  {
   "cell_type": "code",
   "execution_count": null,
   "id": "3b59302d-0017-4db9-bb1a-597e355a66a7",
   "metadata": {},
   "outputs": [],
   "source": [
    "# Calculate stats for pressure plays\n",
    "pressure_passLength_stats = qb_pressure_df[qb_pressure_df['playType']=='Pass'].agg({\n",
    "    'game_play_id': 'count',\n",
    "    'passLength': 'mean'\n",
    "}).to_frame().T.rename(columns={'game_play_id': 'num_plays', 'passLength': 'avg_pass_length'})\n",
    "\n",
    "# Calculate stats for no pressure plays\n",
    "no_pressure_passLength_stats = qb_no_pressure_df[qb_no_pressure_df['playType']=='Pass'].agg({\n",
    "    'game_play_id': 'count',\n",
    "    'passLength': 'mean'\n",
    "}).to_frame().T.rename(columns={'game_play_id': 'num_plays', 'passLength': 'avg_pass_length'})\n",
    "\n",
    "# Combine them into single DataFrame\n",
    "passLength_comparison_df = pd.DataFrame({\n",
    "    'Pressure': pressure_passLength_stats.iloc[0],\n",
    "    'No Pressure': no_pressure_passLength_stats.iloc[0]\n",
    "}).round(1)\n",
    "\n",
    "passLength_comparison_df"
   ]
  },
  {
   "cell_type": "markdown",
   "id": "f51cb3d3-501e-42fa-9169-afd739dc692f",
   "metadata": {},
   "source": [
    "The average length of pass a QB chooses when under pressure is 20% longer vs. the average for \"no pressure\" plays. This warrants further investigation. We can also see from the distribution of pass length data that QBs under pressure tend to opt for longer passes."
   ]
  },
  {
   "cell_type": "code",
   "execution_count": null,
   "id": "247cdde7-2e7a-434e-a3c8-154c0ee94100",
   "metadata": {},
   "outputs": [],
   "source": [
    "# Let's look at how passLength is distributed. Need to pass through passing plays that are not sacks\n",
    "create_histogram(\n",
    "    data=qb_pressure_df[(qb_pressure_df['playType']=='Pass') & (qb_pressure_df['passResult']!='S')],\n",
    "    value_col='passLength',\n",
    "    title='Distribution of Pass Length (w/ QB Under Pressure)',\n",
    "    subtitle='(red line: Avg. Pass Length; dotted boxes: Distribution for No Pressure Plays)',\n",
    "    x_title='Yards',\n",
    "    data2=qb_no_pressure_df[(qb_no_pressure_df['playType']=='Pass') & (qb_no_pressure_df['passResult']!='S')],\n",
    "    bins=20)"
   ]
  },
  {
   "cell_type": "markdown",
   "id": "ac1d523a-97a6-49d4-9be0-f0e896518d49",
   "metadata": {},
   "source": [
    "As we noted above, even more interesting is the pass length stats for interceptions, with intercepted pass attempts under pressure coming after attempted pass lengths that are 4 yards longer than the average for \"no pressure\" plays. This is also evident in the distribution of pass length for interceptions, where \"no pressure\" interceptions show higher density for pass attempts 15 yards or shorter, whereas QBs \"under pressure\" get intercepted more often on passes 20 yards or longer."
   ]
  },
  {
   "cell_type": "code",
   "execution_count": null,
   "id": "184bb6bf-969b-4ad2-8061-b686a6c791f1",
   "metadata": {},
   "outputs": [],
   "source": [
    "# Calculate stats for pressure plays\n",
    "pressure_passLength_stats_int = qb_pressure_df[qb_pressure_df['passResult']=='IN'].agg({\n",
    "    'game_play_id': 'count',\n",
    "    'passLength': 'mean'\n",
    "}).to_frame().T.rename(columns={'game_play_id': 'num_plays', 'passLength': 'avg_pass_length'})\n",
    "\n",
    "# Calculate stats for no pressure plays\n",
    "no_pressure_passLength_stats_int = qb_no_pressure_df[qb_no_pressure_df['passResult']=='IN'].agg({\n",
    "    'game_play_id': 'count',\n",
    "    'passLength': 'mean'\n",
    "}).to_frame().T.rename(columns={'game_play_id': 'num_plays', 'passLength': 'avg_pass_length'})\n",
    "\n",
    "# Combine them into single DataFrame\n",
    "passLength_int_comparison_df = pd.DataFrame({\n",
    "    'Pressure': pressure_passLength_stats_int.iloc[0],\n",
    "    'No Pressure': no_pressure_passLength_stats_int.iloc[0]\n",
    "}).round(1)\n",
    "\n",
    "passLength_int_comparison_df"
   ]
  },
  {
   "cell_type": "code",
   "execution_count": null,
   "id": "d0433b22-c024-4ae0-bdec-8540be65ae1d",
   "metadata": {},
   "outputs": [],
   "source": [
    "# Here's how passLength is distributed for all interceptions\n",
    "create_histogram(\n",
    "    data=qb_pressure_df[qb_pressure_df['passResult']=='IN'],\n",
    "    value_col='passLength',\n",
    "    title='Distribution of Pass Length Resulting in Interceptions (w/ QB Under Pressure)',\n",
    "    subtitle='(red line: Avg. Pass Length; dotted boxes: Distribution for No Pressure Plays)',\n",
    "    x_title='Yards',\n",
    "    data2=qb_no_pressure_df[qb_no_pressure_df['passResult']=='IN'],\n",
    "    bins=20)"
   ]
  },
  {
   "cell_type": "markdown",
   "id": "7fb0a571-9af1-4702-a4f4-28a0b448ce1b",
   "metadata": {},
   "source": [
    "[Back to Table of Contents](#Table-of-Contents)"
   ]
  },
  {
   "cell_type": "markdown",
   "id": "25fd227d-41f0-488c-a3c3-e2094b4041a3",
   "metadata": {},
   "source": [
    "### Individual Player Analysis<a id='individual'></a> "
   ]
  },
  {
   "cell_type": "markdown",
   "id": "5b1c461d-d2d4-4fe8-bee9-9e2e2d8cae46",
   "metadata": {},
   "source": [
    "Our next task is to analyze player level statistics. We begin by creating a summary table of the stats we're interested in by QB. We make use of our `create_QB_summary` function to get summary dataframes from each of the \"pressure\" and \"no pressure\" datasets."
   ]
  },
  {
   "cell_type": "code",
   "execution_count": null,
   "id": "dc0f806d-29db-43c6-95d6-9b8835f784bc",
   "metadata": {},
   "outputs": [],
   "source": [
    "# Function to create player-by-player summary for a specific passResult\n",
    "def create_QB_summary(df, pass_result, yards_col=None):\n",
    "    \"\"\"\n",
    "    Creates summary QB statistics for a specific passResult\n",
    "\n",
    "    Args:\n",
    "        df (pandas DataFrame): QB play data\n",
    "        pass_result (str): passResult string to filter ('C', S', 'IN', 'R')\n",
    "        yards_col (str): Name of the yards column to average (optional)\n",
    "        \n",
    "    Returns:\n",
    "        pd.DataFrame: DataFrame with summary statistics for the specified passResult\n",
    "    \"\"\"\n",
    "    \n",
    "    # Get total snaps\n",
    "    total_snaps_df = (df.groupby('displayName').agg(\n",
    "        total_snaps=('displayName', 'size'),\n",
    "        avg_total_yards=('prePenaltyYardsGained', 'mean')\n",
    "    ).round(1).reset_index().sort_values('total_snaps', ascending=False))\n",
    "    \n",
    "    # Get filtered data for specific passResult\n",
    "    result_df = df[df['passResult'] == pass_result]\n",
    "    \n",
    "    # Create summary stats\n",
    "    summary_df = result_df.groupby('displayName').agg({'passResult': 'count'})\n",
    "    \n",
    "    # Add average yards stat (if specified)\n",
    "    if yards_col:\n",
    "        yards_df = result_df.groupby('displayName')[yards_col].mean().round(1)\n",
    "        summary_df = summary_df.join(yards_df)\n",
    "    \n",
    "    # Reset index and rename columns\n",
    "    summary_df = summary_df.reset_index()\n",
    "    summary_df = summary_df.rename(columns={'passResult': 'count'})\n",
    "    if yards_col:\n",
    "        summary_df = summary_df.rename(columns={yards_col: 'avg_yards'})\n",
    "    \n",
    "    # Merge with total snaps and fill NAs\n",
    "    summary_df = pd.merge(total_snaps_df, summary_df, on='displayName', how='outer').fillna(0)\n",
    "    summary_df['count'] = summary_df['count'].astype(int)\n",
    "    \n",
    "    # Calculate rate\n",
    "    summary_df['rate'] = (summary_df['count'] / summary_df['total_snaps'] *100).round(1)\n",
    "\n",
    "    # Sort by total_snaps and rate (descending order)\n",
    "    summary_df = summary_df.sort_values(['total_snaps', 'rate'], ascending=[False, False])\n",
    "    \n",
    "    return summary_df"
   ]
  },
  {
   "cell_type": "code",
   "execution_count": null,
   "id": "d4207358-3c78-402e-9e5d-d03598e9cef2",
   "metadata": {
    "scrolled": true
   },
   "outputs": [],
   "source": [
    "# Create summaries for each passResult of interest\n",
    "completions_pressure = create_QB_summary(qb_pressure_df, 'C', 'prePenaltyYardsGained')\n",
    "scrambles_pressure = create_QB_summary(qb_pressure_df, 'R', 'prePenaltyYardsGained')\n",
    "interceptions_pressure = create_QB_summary(qb_pressure_df, 'IN')\n",
    "sacks_pressure = create_QB_summary(qb_pressure_df, 'S', 'prePenaltyYardsGained')\n",
    "\n",
    "# Rename columns\n",
    "completions_pressure = completions_pressure.rename(columns={'count': 'completion_count', 'rate': 'completion_rate', 'avg_yards': 'avg_yards_per_completed_pass'})\n",
    "scrambles_pressure = scrambles_pressure.rename(columns={'count': 'scramble_attempts', 'rate': 'scramble_rate', 'avg_yards': 'avg_yards_per_scramble'})\n",
    "interceptions_pressure = interceptions_pressure.rename(columns={'count': 'int_count', 'rate': 'interception_rate'})\n",
    "sacks_pressure = sacks_pressure.rename(columns={'count': 'sack_count', 'rate': 'sack_rate', 'avg_yards': 'avg_yards_lost_per_sack'})\n",
    "\n",
    "# Merge all summaries\n",
    "qb_summary_pressure = completions_pressure.merge(scrambles_pressure).merge(interceptions_pressure).merge(sacks_pressure)\n",
    "qb_summary_pressure.head()"
   ]
  },
  {
   "cell_type": "code",
   "execution_count": null,
   "id": "878094f1-d845-4b1a-84b2-c3f43ba9f5de",
   "metadata": {
    "scrolled": true
   },
   "outputs": [],
   "source": [
    "# Let's do the same for No Pressure plays\n",
    "completions_no_pressure = create_QB_summary(qb_no_pressure_df, 'C', 'prePenaltyYardsGained')\n",
    "scrambles_no_pressure = create_QB_summary(qb_no_pressure_df, 'R', 'prePenaltyYardsGained')\n",
    "interceptions_no_pressure = create_QB_summary(qb_no_pressure_df, 'IN')\n",
    "sacks_no_pressure = create_QB_summary(qb_no_pressure_df, 'S', 'prePenaltyYardsGained')\n",
    "\n",
    "# Rename columns\n",
    "completions_no_pressure = completions_no_pressure.rename(columns={'count': 'completion_count', 'rate': 'completion_rate', 'avg_yards': 'avg_yards_per_completed_pass'})\n",
    "scrambles_no_pressure = scrambles_no_pressure.rename(columns={'count': 'scramble_attempts', 'rate': 'scramble_rate', 'avg_yards': 'avg_yards_per_scramble'})\n",
    "interceptions_no_pressure = interceptions_no_pressure.rename(columns={'count': 'int_count', 'rate': 'interception_rate'})\n",
    "sacks_no_pressure = sacks_no_pressure.rename(columns={'count': 'sack_count', 'rate': 'sack_rate', 'avg_yards': 'avg_yards_lost_per_sack'})\n",
    "\n",
    "# Merge all summaries\n",
    "qb_summary_no_pressure = completions_no_pressure.merge(scrambles_no_pressure).merge(interceptions_no_pressure).merge(sacks_no_pressure)\n",
    "qb_summary_no_pressure.head()"
   ]
  },
  {
   "cell_type": "markdown",
   "id": "61fae6b2-3ed8-4ba0-83c4-4bf52def66e2",
   "metadata": {},
   "source": [
    "Let's look at the QBs that deliver the most yards gained when under pressure, but for the benefit of expressiveness and effectiveness of our visualization, we will only include QBs who have had more than 30 snaps during the season."
   ]
  },
  {
   "cell_type": "code",
   "execution_count": null,
   "id": "1d0fdd43-2b01-44b7-85d3-57dd039f34a2",
   "metadata": {},
   "outputs": [],
   "source": [
    "qb_summary_pressure_filtered = qb_summary_pressure[qb_summary_pressure['total_snaps'] > 30]\n",
    "qb_summary_pressure_filtered['label'] = qb_summary_pressure_filtered['avg_total_yards'].apply(lambda x: f'{x:.1f}')\n",
    "create_bar_chart(\n",
    "    data=qb_summary_pressure_filtered,\n",
    "    x_col='displayName',\n",
    "    y_col='avg_total_yards',\n",
    "    text_col='label',\n",
    "    title='Average Pre-Penalty Yards by Quarterback (w/ Pressure)',\n",
    "    width=1000,\n",
    "    height=400,\n",
    "    sort_order='-y',\n",
    "    label_angle=-45,\n",
    "    label_size=10)"
   ]
  },
  {
   "cell_type": "markdown",
   "id": "315bda85-9fd1-4fa1-baa1-490955521d42",
   "metadata": {},
   "source": [
    "Next, let's look at the QBs with the most completed passes under pressure, again, including only the QBs with more than 30 snaps during the season."
   ]
  },
  {
   "cell_type": "code",
   "execution_count": null,
   "id": "daeb6fd8-f707-4806-957a-59affc31b9f7",
   "metadata": {},
   "outputs": [],
   "source": [
    "# Let's also look at the QBs with the highest completion rate under pressure\n",
    "create_bar_chart(\n",
    "    data=qb_summary_pressure_filtered,\n",
    "    x_col='displayName',\n",
    "    y_col='completion_rate',\n",
    "    text_col='completion_rate',\n",
    "    title='Average Completion % by Quarterback (w/ Pressure)',\n",
    "    width=1000,\n",
    "    height=400,\n",
    "    sort_order='-y',\n",
    "    label_angle=-45,\n",
    "    label_size=10)"
   ]
  },
  {
   "cell_type": "markdown",
   "id": "9f0e5cef-d609-4c93-b10e-0e5ea2441dbf",
   "metadata": {},
   "source": [
    "Looking carefully at the 2 bar charts, we can see that QBs can achieve high yardage under pressure without necessarily depending on their passing game. Josh Allen is a good example. He tops the table for yards gained under pressure, even though he's middle of the pack when it comes to completed passes. Andy Dalton, on the other hand, is at or near the top for both. Let's create some scatter plots from this data, but first a scatter function we can reuse."
   ]
  },
  {
   "cell_type": "code",
   "execution_count": null,
   "id": "2df6b72b-a56b-41bb-990c-435df2be92c5",
   "metadata": {},
   "outputs": [],
   "source": [
    "# Scatter plot function we can reuse\n",
    "def create_scatter(data, x_col, y_col, label_col=None, tooltip_col=None, title=None, x_title=None, y_title=None,\n",
    "                   y_min=None, y_max=None, x_min=None, x_max=None, width=600, height=400):\n",
    "    \"\"\"\n",
    "    Create Altair scatter plot with optional text labels\n",
    "    \n",
    "    Args:\n",
    "        data (pandas DataFrame): Data to plot\n",
    "        x_col (str): Column name for x-axis data\n",
    "        y_col (str): Column name for y-axis data\n",
    "        label_col (str): Optional column name for text labels\n",
    "        tooltip_col (list): Optional column names to include in tooltip\n",
    "        title (str): Optional chart title\n",
    "        x_title (str): Optional x-axis title\n",
    "        y_title (str): Optional y-axis title\n",
    "        y_min (float): Optional min value for y-axis scale, will auto-scale by default\n",
    "        y_max (float): Optional max value for y-axis scale, will auto-scale by default\n",
    "        x_min (float): Optional min value for x-axis scale, will auto-scale by default\n",
    "        x_max (float): Optional max value for x-axis scale, will auto-scale by default\n",
    "        width (int): Optional chart width in pixels (default 600)\n",
    "        height (int): Optional chart height in pixels (default 400)\n",
    "        \n",
    "    Returns:\n",
    "        altair.Chart: Scatter plot with optional text labels\n",
    "    \"\"\"\n",
    "\n",
    "    # Set default tooltip columns\n",
    "    if tooltip_col is None:\n",
    "        if label_col is None:\n",
    "            tooltip_col = [x_col, y_col]\n",
    "        else:\n",
    "            tooltip_col = [label_col, x_col, y_col]\n",
    "\n",
    "    # Selection filter\n",
    "    hover = alt.selection_single(\n",
    "        on='mouseover',\n",
    "        nearest=True,\n",
    "        empty=False,\n",
    "        clear='mouseout'\n",
    "    )\n",
    "\n",
    "    # Set axis ranges\n",
    "    x_scale = alt.Scale(\n",
    "        domain=[data[x_col].min() * 0.9 if x_min is None else x_min,\n",
    "                data[x_col].max() * 1.1 if x_max is None else x_max])\n",
    "    \n",
    "    y_scale = alt.Scale(\n",
    "        domain=[data[y_col].min() * 0.9 if y_min is None else y_min,\n",
    "                data[y_col].max() * 1.1 if y_max is None else y_max])\n",
    "        \n",
    "    # Base scatter plot\n",
    "    scatter = alt.Chart(data).mark_circle(size=60).encode(\n",
    "        x=alt.X(f'{x_col}:Q', \n",
    "                title=x_title if x_title else x_col,\n",
    "                axis=alt.Axis(labelFontSize=10, tickCount=10),\n",
    "                scale=x_scale),\n",
    "        y=alt.Y(f'{y_col}:Q', \n",
    "                title=y_title if y_title else y_col,\n",
    "                axis=alt.Axis(labelFontSize=10, tickCount=10),\n",
    "                scale=y_scale),\n",
    "        tooltip=tooltip_col,\n",
    "        color=alt.condition(hover, alt.value('red'), alt.value('#4c78a8'))\n",
    "    ).add_selection(hover)\n",
    "\n",
    "    # Add text labels if passed through\n",
    "    if label_col is None:\n",
    "        combined_chart = scatter\n",
    "    else:\n",
    "        text = scatter.mark_text(\n",
    "            align='left',\n",
    "            baseline='middle',\n",
    "            dx=7,\n",
    "            fontSize=10\n",
    "        ).encode(\n",
    "            text=f'{label_col}:N',\n",
    "            color=alt.condition(hover, alt.value('red'), alt.value('black'))\n",
    "        )\n",
    "        combined_chart = (scatter + text)\n",
    "    \n",
    "    return combined_chart.properties(\n",
    "        width=width,\n",
    "        height=height,\n",
    "        title=title if title else f'{x_col} vs. {y_col}'\n",
    "    ).configure_axis(grid=False, titleFontSize=12)"
   ]
  },
  {
   "cell_type": "markdown",
   "id": "b086db31-283a-4008-a0a0-be451c8d758b",
   "metadata": {},
   "source": [
    "Since scrambling is a key decision that QBs tend to make very selectively when under pressure, let's see how scramble rates for individual QBs correlate with yards gained. We see from the initial chart below, that there is unfortunately not a very clear correlation between them. If you're viewing this Notebook in Jupyter, you can hover over individual datapoints to see more detail on each QB."
   ]
  },
  {
   "cell_type": "code",
   "execution_count": null,
   "id": "584cb3c0-2897-46ba-b627-faa49234bd3b",
   "metadata": {},
   "outputs": [],
   "source": [
    "# For labelling, let's just pass through QB last names\n",
    "qb_summary_pressure_filtered['last_name'] = qb_summary_pressure_filtered['displayName'].str.split().str[-1]"
   ]
  },
  {
   "cell_type": "code",
   "execution_count": null,
   "id": "f56e5ff3-fe7e-4b61-b295-60057c1dc03e",
   "metadata": {},
   "outputs": [],
   "source": [
    "# Scatter plot showing Scramble Rate vs. Avg. Pre-Penalty Yards by QB\n",
    "scatter = create_scatter(\n",
    "    data=qb_summary_pressure_filtered,\n",
    "    x_col='scramble_rate',\n",
    "    y_col='avg_total_yards',\n",
    "    label_col='last_name',\n",
    "    tooltip_col=['displayName', 'total_snaps', 'scramble_rate', 'avg_total_yards'],\n",
    "    title='Scramble Rate vs. Average Pre-Penalty Yards (w/ QB Under Pressure)',\n",
    "    x_title='Scramble Rate (%)',\n",
    "    y_title='Average Pre-Penalty Yards',\n",
    "    y_min=0,\n",
    "    y_max=8\n",
    ")\n",
    "scatter"
   ]
  },
  {
   "cell_type": "markdown",
   "id": "446d447d-235b-4955-b61a-a1b60de8d792",
   "metadata": {},
   "source": [
    "There are some outliers in the data, specifically, the 5 QBs with zero scrambles in the season. We should really exclude those from the scatter plot. It would also be nice to see how a linear regression line fits the data, so we make those 2 improvements below."
   ]
  },
  {
   "cell_type": "code",
   "execution_count": null,
   "id": "28a3066e-2d5a-497a-a5ed-8c09324f4ef7",
   "metadata": {},
   "outputs": [],
   "source": [
    "# We should filter out QBs with zero scramble attempts for this plot\n",
    "qb_summary_pressure_filtered_scramble = qb_summary_pressure_filtered[qb_summary_pressure_filtered['scramble_attempts'] > 0]\n",
    "scatter = create_scatter(\n",
    "    data=qb_summary_pressure_filtered_scramble,\n",
    "    x_col='scramble_rate',\n",
    "    y_col='avg_total_yards',\n",
    "    label_col='last_name',\n",
    "    tooltip_col=['displayName', 'total_snaps', 'scramble_rate', 'avg_total_yards'],\n",
    "    title='Scramble Rate vs. Average Pre-Penalty Yards (w/ QB Under Pressure)',\n",
    "    x_title='Scramble Rate (%)',\n",
    "    y_title='Average Pre-Penalty Yards',\n",
    "    y_min=0,\n",
    "    y_max=8\n",
    ")\n",
    "scatter"
   ]
  },
  {
   "cell_type": "code",
   "execution_count": null,
   "id": "cc559824-4934-4726-97fe-801bdda70d0f",
   "metadata": {},
   "outputs": [],
   "source": [
    "# Function to add linear fit line\n",
    "def get_linear_fit_chart(data, x_col, y_col, opacity=0.5):\n",
    "    '''\n",
    "    Fits sklearn.linear_model.LinearRegression model to x_col to predict y_col\n",
    "    and returns an Altair chart plotting the fit line\n",
    "\n",
    "    Args:\n",
    "        data (pandas DataFrame): Data to use in linear regression line fit\n",
    "        x_col (str): Column name for x-axis data\n",
    "        y_col (str): Column name for y-axis data\n",
    "        opacity (float): Opacity of output line\n",
    "        \n",
    "    Returns:\n",
    "        altair.Chart: Linear fit line plot\n",
    "    '''\n",
    "    \n",
    "    # Fit model to data\n",
    "    X = data[[f'{x_col}']]\n",
    "    y = data[f'{y_col}']\n",
    "    model = LinearRegression().fit(X, y)\n",
    "    \n",
    "    # construct prediction grid for x_col with 101 evenly-spaced values\n",
    "    y_pred_grid = pd.DataFrame({f'{x_col}': np.linspace(\n",
    "        data[f'{x_col}'].min(), \n",
    "        data[f'{x_col}'].max(), \n",
    "        num=101\n",
    "    )})\n",
    "    \n",
    "    #use model to predict value for y_col at each x_col position\n",
    "    pred_df = pd.DataFrame({\n",
    "            f'{x_col}': y_pred_grid[f'{x_col}'],\n",
    "            f'{y_col}': model.predict(y_pred_grid)\n",
    "        })\n",
    "    \n",
    "    # return Altair chart showing the fit line using `pred_df`        \n",
    "    return alt.Chart(pred_df).mark_line(\n",
    "        color=\"red\",\n",
    "        opacity=opacity\n",
    "    ).encode(\n",
    "        x=f'{x_col}',\n",
    "        y=f'{y_col}'\n",
    "    )"
   ]
  },
  {
   "cell_type": "markdown",
   "id": "3787e122-d6b4-4815-8394-f375217d104b",
   "metadata": {},
   "source": [
    "Our conclusion has not changed. There is only a very slight negative correlation between the two variables, as also observed in the slightly negative sloping linear regression fit line.  "
   ]
  },
  {
   "cell_type": "code",
   "execution_count": null,
   "id": "11b6648e-93d5-4811-8aee-01bd6d41a5a2",
   "metadata": {},
   "outputs": [],
   "source": [
    "print(qb_summary_pressure_filtered_scramble[['scramble_rate', 'avg_total_yards']].corr().round(2))"
   ]
  },
  {
   "cell_type": "code",
   "execution_count": null,
   "id": "4f0abca1-a533-436b-bf64-52431fd4af3d",
   "metadata": {},
   "outputs": [],
   "source": [
    "line_fit = get_linear_fit_chart(qb_summary_pressure_filtered_scramble, 'scramble_rate', 'avg_total_yards')\n",
    "scatter + line_fit"
   ]
  },
  {
   "cell_type": "markdown",
   "id": "62a0d4d1-46d3-4634-8237-5576cf48c80f",
   "metadata": {},
   "source": [
    "Now let's look at plays with \"no pressure\" and plot yards gained by QB, again focusing on those who have had more than 30 snaps."
   ]
  },
  {
   "cell_type": "code",
   "execution_count": null,
   "id": "d1351eca-aaa5-4466-a383-e0b42f26e8c7",
   "metadata": {},
   "outputs": [],
   "source": [
    "qb_summary_no_pressure_filtered = qb_summary_no_pressure[qb_summary_pressure['total_snaps'] > 30]\n",
    "qb_summary_no_pressure_filtered['label'] = qb_summary_no_pressure_filtered['avg_total_yards'].apply(lambda x: f'{x:.1f}')\n",
    "create_bar_chart(\n",
    "    data=qb_summary_no_pressure_filtered,\n",
    "    x_col='displayName',\n",
    "    y_col='avg_total_yards',\n",
    "    text_col='label',\n",
    "    title='Average Pre-Penalty Yards by Quarterback (No Pressure)',\n",
    "    width=1000,\n",
    "    height=400,\n",
    "    sort_order='-y',\n",
    "    label_angle=-45,\n",
    "    label_size=10)"
   ]
  },
  {
   "cell_type": "markdown",
   "id": "82cbcfd4-31ed-492b-8aa3-c8261792ef35",
   "metadata": {},
   "source": [
    "And also the QBs with the most completions under \"no pressure\"."
   ]
  },
  {
   "cell_type": "code",
   "execution_count": null,
   "id": "f70c2c4c-0917-4449-86d3-e610207648fe",
   "metadata": {},
   "outputs": [],
   "source": [
    "create_bar_chart(\n",
    "    data=qb_summary_no_pressure_filtered,\n",
    "    x_col='displayName',\n",
    "    y_col='completion_rate',\n",
    "    text_col='completion_rate',\n",
    "    title='Average Completion % by Quarterback (No Pressure)',\n",
    "    width=1000,\n",
    "    height=400,\n",
    "    sort_order='-y',\n",
    "    label_angle=-45,\n",
    "    label_size=10)"
   ]
  },
  {
   "cell_type": "markdown",
   "id": "8c4be4f4-39b3-410f-86c9-1ce0dfaf8853",
   "metadata": {},
   "source": [
    "Once again, let's look at scramble rates vs. pre-penalty yards gained for \"no pressure\" situations as well. Similar to \"pressure\" plays, there is not a strong correlation between the two variables, albeit with a slightly stronger, positive correlation for \"no pressure\" plays."
   ]
  },
  {
   "cell_type": "code",
   "execution_count": null,
   "id": "cee79fe8-4ce7-465f-b994-ec58f1ca7293",
   "metadata": {},
   "outputs": [],
   "source": [
    "print(qb_summary_no_pressure_filtered[['scramble_rate', 'avg_total_yards']].corr().round(2))"
   ]
  },
  {
   "cell_type": "code",
   "execution_count": null,
   "id": "9e816997-2f9c-4ec8-b2f9-b25d2f43e1cb",
   "metadata": {},
   "outputs": [],
   "source": [
    "# For labelling, let's just pass through QB last names\n",
    "qb_summary_no_pressure_filtered['last_name'] = qb_summary_no_pressure_filtered['displayName'].str.split().str[-1]\n",
    "# Scatter plot showing Scramble Rate vs. Avg. Pre-Penalty Yards by QB\n",
    "scatter = create_scatter(\n",
    "    data=qb_summary_no_pressure_filtered,\n",
    "    x_col='scramble_rate',\n",
    "    y_col='avg_total_yards',\n",
    "    label_col='last_name',\n",
    "    tooltip_col=['displayName', 'total_snaps', 'scramble_rate', 'avg_total_yards'],\n",
    "    title='Scramble Rate vs. Average Pre-Penalty Yards (No Pressure)',\n",
    "    x_title='Scramble Rate (%)',\n",
    "    y_title='Average Pre-Penalty Yards',\n",
    "    #y_min=0,\n",
    "    #y_max=8\n",
    ")\n",
    "scatter\n",
    "\n",
    "line_fit = get_linear_fit_chart(qb_summary_no_pressure_filtered, 'scramble_rate', 'avg_total_yards')\n",
    "scatter + line_fit"
   ]
  },
  {
   "cell_type": "markdown",
   "id": "a3c49dcf-8d34-4380-a7e6-c7e849bc5aa1",
   "metadata": {},
   "source": [
    "Finally, it would be interesting to see whether QBs that perform well under pressure, also perform well with no pressure. We can look at correlation coefficients and scatter plots for yards gained and completion rates using QB-level data with and without pressure. We see below that, once again, there is no strong correlation between the performance of QBs in \"pressure\" vs. \"no pressure\" situations. If anything, there is a slight negative correlation, suggesting a QB that is successful \"under pressure\" is less likely to be as successful with \"no pressure\", and vice versa."
   ]
  },
  {
   "cell_type": "code",
   "execution_count": null,
   "id": "ef738fd8-0393-483c-9ce7-ecd5222dbe28",
   "metadata": {},
   "outputs": [],
   "source": [
    "# Create merged dataframe with yards gained and completion rates with and without pressure\n",
    "qb_comparison_df = pd.DataFrame({\n",
    "    'displayName': qb_summary_pressure_filtered['displayName'],\n",
    "    'pressure_yards_gained': qb_summary_pressure_filtered['avg_total_yards'],\n",
    "    'no_pressure_yards_gained': qb_summary_no_pressure_filtered['avg_total_yards'],\n",
    "    'pressure_completion_rate': qb_summary_pressure_filtered['completion_rate'],\n",
    "    'no_pressure_completion_rate': qb_summary_no_pressure_filtered['completion_rate']\n",
    "})\n",
    "qb_comparison_df['last_name'] = qb_comparison_df['displayName'].str.split().str[-1]"
   ]
  },
  {
   "cell_type": "code",
   "execution_count": null,
   "id": "500929a1-1f66-4408-a0c7-0f7d457498dc",
   "metadata": {},
   "outputs": [],
   "source": [
    "print(qb_comparison_df[['pressure_yards_gained', 'no_pressure_yards_gained']].corr().round(2))\n",
    "print(qb_comparison_df[['pressure_completion_rate', 'no_pressure_completion_rate']].corr().round(2))"
   ]
  },
  {
   "cell_type": "code",
   "execution_count": null,
   "id": "d58e2a04-116f-4b5a-8052-8f06e755acaa",
   "metadata": {},
   "outputs": [],
   "source": [
    "# Scatter plot for pre-penalty yards gained with and without pressure\n",
    "scatter = create_scatter(\n",
    "    data=qb_comparison_df,\n",
    "    x_col='no_pressure_yards_gained',\n",
    "    y_col='pressure_yards_gained',\n",
    "    label_col='last_name',\n",
    "    tooltip_col=['displayName', 'pressure_yards_gained', 'no_pressure_yards_gained'],\n",
    "    title='Pre-Penalty Yards Gained by QB - Under Pressure vs. No Pressure',\n",
    "    x_title='Pre-Penalty Yards Gained (No Pressure)',\n",
    "    y_title='Pre-Penalty Yards Gained (w/ Pressure)',\n",
    "    # y_min=0,\n",
    "    # y_max=8,\n",
    "    # x_min=5,\n",
    "    # x_max=10\n",
    ")\n",
    "\n",
    "line_fit = get_linear_fit_chart(qb_comparison_df, 'no_pressure_yards_gained', 'pressure_yards_gained')\n",
    "\n",
    "scatter+line_fit"
   ]
  },
  {
   "cell_type": "code",
   "execution_count": null,
   "id": "47823a22-655a-4ea8-9b08-480766efa8a9",
   "metadata": {},
   "outputs": [],
   "source": [
    "# Scatter plot for completion rates with and without pressure\n",
    "scatter = create_scatter(\n",
    "    data=qb_comparison_df,\n",
    "    x_col='no_pressure_completion_rate',\n",
    "    y_col='pressure_completion_rate',\n",
    "    label_col='last_name',\n",
    "    tooltip_col=['displayName', 'pressure_completion_rate', 'no_pressure_completion_rate'],\n",
    "    title='Completion % by QB - Under Pressure vs. No Pressure',\n",
    "    x_title='Completion % (No Pressure)',\n",
    "    y_title='Completion % (w/ Pressure)',\n",
    "    # y_min=15,\n",
    "    # y_max=60,\n",
    "    # x_min=40,\n",
    "    # x_max=80\n",
    ")\n",
    "\n",
    "line_fit = get_linear_fit_chart(qb_comparison_df, 'no_pressure_completion_rate', 'pressure_completion_rate')\n",
    "\n",
    "scatter+line_fit"
   ]
  },
  {
   "cell_type": "markdown",
   "id": "9d4a0351-9e07-4046-b5cc-3be8da84a927",
   "metadata": {},
   "source": [
    "[Back to Table of Contents](#Table-of-Contents)"
   ]
  }
 ],
 "metadata": {
  "kernelspec": {
   "display_name": "Python 3.10 (ipykernel)",
   "language": "python",
   "name": "python3"
  },
  "language_info": {
   "codemirror_mode": {
    "name": "ipython",
    "version": 3
   },
   "file_extension": ".py",
   "mimetype": "text/x-python",
   "name": "python",
   "nbconvert_exporter": "python",
   "pygments_lexer": "ipython3",
   "version": "3.10.11"
  }
 },
 "nbformat": 4,
 "nbformat_minor": 5
}
